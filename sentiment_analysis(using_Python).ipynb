{
  "nbformat": 4,
  "nbformat_minor": 0,
  "metadata": {
    "colab": {
      "name": "sentiment analysis(using Python).ipynb",
      "provenance": [],
      "collapsed_sections": []
    },
    "kernelspec": {
      "name": "python3",
      "display_name": "Python 3"
    },
    "language_info": {
      "name": "python"
    }
  },
  "cells": [
    {
      "cell_type": "markdown",
      "metadata": {
        "id": "A6hYWSLAU_DK"
      },
      "source": [
        "Tweepy is an easy to use python library for accessing the twitter API(Application Program Interface)"
      ]
    },
    {
      "cell_type": "code",
      "metadata": {
        "colab": {
          "base_uri": "https://localhost:8080/"
        },
        "id": "1XtVH4HeU1XB",
        "outputId": "61a03828-4044-4fe0-a629-da6712c608ae"
      },
      "source": [
        "!pip install tweepy"
      ],
      "execution_count": 56,
      "outputs": [
        {
          "output_type": "stream",
          "name": "stdout",
          "text": [
            "Requirement already satisfied: tweepy in /usr/local/lib/python3.7/dist-packages (3.10.0)\n",
            "Requirement already satisfied: requests[socks]>=2.11.1 in /usr/local/lib/python3.7/dist-packages (from tweepy) (2.23.0)\n",
            "Requirement already satisfied: six>=1.10.0 in /usr/local/lib/python3.7/dist-packages (from tweepy) (1.15.0)\n",
            "Requirement already satisfied: requests-oauthlib>=0.7.0 in /usr/local/lib/python3.7/dist-packages (from tweepy) (1.3.0)\n",
            "Requirement already satisfied: oauthlib>=3.0.0 in /usr/local/lib/python3.7/dist-packages (from requests-oauthlib>=0.7.0->tweepy) (3.1.1)\n",
            "Requirement already satisfied: certifi>=2017.4.17 in /usr/local/lib/python3.7/dist-packages (from requests[socks]>=2.11.1->tweepy) (2021.5.30)\n",
            "Requirement already satisfied: chardet<4,>=3.0.2 in /usr/local/lib/python3.7/dist-packages (from requests[socks]>=2.11.1->tweepy) (3.0.4)\n",
            "Requirement already satisfied: urllib3!=1.25.0,!=1.25.1,<1.26,>=1.21.1 in /usr/local/lib/python3.7/dist-packages (from requests[socks]>=2.11.1->tweepy) (1.24.3)\n",
            "Requirement already satisfied: idna<3,>=2.5 in /usr/local/lib/python3.7/dist-packages (from requests[socks]>=2.11.1->tweepy) (2.10)\n",
            "Requirement already satisfied: PySocks!=1.5.7,>=1.5.6 in /usr/local/lib/python3.7/dist-packages (from requests[socks]>=2.11.1->tweepy) (1.7.1)\n"
          ]
        }
      ]
    },
    {
      "cell_type": "code",
      "metadata": {
        "id": "gtaoCmAUVmg4"
      },
      "source": [
        "import tweepy\n",
        "import pandas as pd"
      ],
      "execution_count": 57,
      "outputs": []
    },
    {
      "cell_type": "code",
      "metadata": {
        "id": "YkzMf-J-EddV"
      },
      "source": [
        "consumer_key = 'P0SA2lFlPpEFfeAxB4wMHxTcd'\n",
        "consumer_secret = 'qA6vS4tCAmM2dRrI7PWzNOA1DX3xsheC4y0Jhw21C3WxOHtdVl'\n",
        "access_token = '1272369059615535104-RQSpbByppiOrR6fdEqDUJnkyEsn24U'\n",
        "access_token_secret = 'NOCRJKaEFtSXGDydmGN80NR91QRLpx8Dhsp6bbnNR3rN6'"
      ],
      "execution_count": 58,
      "outputs": []
    },
    {
      "cell_type": "markdown",
      "metadata": {
        "id": "R89lbIlVZ1k1"
      },
      "source": [
        "Authetication using the obtained keys and tokens"
      ]
    },
    {
      "cell_type": "code",
      "metadata": {
        "id": "caIRIjNxYygN"
      },
      "source": [
        "auth = tweepy.OAuthHandler(consumer_key, consumer_secret)\n",
        "auth.set_access_token(access_token, access_token_secret)\n",
        "api = tweepy.API(auth)"
      ],
      "execution_count": 59,
      "outputs": []
    },
    {
      "cell_type": "markdown",
      "metadata": {
        "id": "uRGSIe5JZ6Jc"
      },
      "source": [
        "Importing 150 tweets from BBC News twitter handle\n"
      ]
    },
    {
      "cell_type": "code",
      "metadata": {
        "id": "kxIRdoZjZZN4"
      },
      "source": [
        "n_tweets = 150\n",
        "get_tweets = tweepy.Cursor(api.user_timeline, id = 'BBCBreaking', tweet_mode = 'extended').items(n_tweets)"
      ],
      "execution_count": 60,
      "outputs": []
    },
    {
      "cell_type": "markdown",
      "metadata": {
        "id": "jgHVJThdb3jc"
      },
      "source": [
        "*note*: go to https://docs.tweepy.org to know about the API references of tweepy.API"
      ]
    },
    {
      "cell_type": "markdown",
      "metadata": {
        "id": "taSMTX_0aLHL"
      },
      "source": [
        "150 Tweets details relevant to the keyword will be stored in get_tweets variable in JSON format"
      ]
    },
    {
      "cell_type": "markdown",
      "metadata": {
        "id": "ZNhzM4_iaoWj"
      },
      "source": [
        "**Iterate over extracted tweets saved in 'get_tweets' variable and store the tweets text and time**\n"
      ]
    },
    {
      "cell_type": "code",
      "metadata": {
        "id": "iB1M4fjMaiLg"
      },
      "source": [
        "tweets = []\n",
        "time_of_tweet = []\n",
        "for i in get_tweets:\n",
        "  tweets.append(i.full_text)      # .full_text returns the text written in a particular tweet\n",
        "  time_of_tweet.append(i.created_at)   # .created_at returns the time of tweet"
      ],
      "execution_count": 61,
      "outputs": []
    },
    {
      "cell_type": "markdown",
      "metadata": {
        "id": "RZ3NJObeafRc"
      },
      "source": [
        ""
      ]
    },
    {
      "cell_type": "code",
      "metadata": {
        "id": "-icW-7toZZMD"
      },
      "source": [
        "df = pd.DataFrame({'tweet':tweets, 'time':time_of_tweet})"
      ],
      "execution_count": 62,
      "outputs": []
    },
    {
      "cell_type": "code",
      "metadata": {
        "colab": {
          "base_uri": "https://localhost:8080/",
          "height": 1000
        },
        "id": "nLRRdVlOZZKX",
        "outputId": "258f6d13-f8cd-4ba9-8a4c-952295ed1524"
      },
      "source": [
        "df.iloc[:50,:]"
      ],
      "execution_count": 63,
      "outputs": [
        {
          "output_type": "execute_result",
          "data": {
            "text/html": [
              "<div>\n",
              "<style scoped>\n",
              "    .dataframe tbody tr th:only-of-type {\n",
              "        vertical-align: middle;\n",
              "    }\n",
              "\n",
              "    .dataframe tbody tr th {\n",
              "        vertical-align: top;\n",
              "    }\n",
              "\n",
              "    .dataframe thead th {\n",
              "        text-align: right;\n",
              "    }\n",
              "</style>\n",
              "<table border=\"1\" class=\"dataframe\">\n",
              "  <thead>\n",
              "    <tr style=\"text-align: right;\">\n",
              "      <th></th>\n",
              "      <th>tweet</th>\n",
              "      <th>time</th>\n",
              "    </tr>\n",
              "  </thead>\n",
              "  <tbody>\n",
              "    <tr>\n",
              "      <th>0</th>\n",
              "      <td>UK's early Covid response was \"one of the most...</td>\n",
              "      <td>2021-10-12 08:09:48</td>\n",
              "    </tr>\n",
              "    <tr>\n",
              "      <th>1</th>\n",
              "      <td>Austria's Chancellor Sebastian Kurz resigns am...</td>\n",
              "      <td>2021-10-09 18:18:41</td>\n",
              "    </tr>\n",
              "    <tr>\n",
              "      <th>2</th>\n",
              "      <td>A US appeals court reinstates Texas's near tot...</td>\n",
              "      <td>2021-10-09 03:20:39</td>\n",
              "    </tr>\n",
              "    <tr>\n",
              "      <th>3</th>\n",
              "      <td>Conservative MP and former UK government minis...</td>\n",
              "      <td>2021-10-08 10:38:59</td>\n",
              "    </tr>\n",
              "    <tr>\n",
              "      <th>4</th>\n",
              "      <td>Journalists Maria Ressa and Dmitry Muratov joi...</td>\n",
              "      <td>2021-10-08 09:10:05</td>\n",
              "    </tr>\n",
              "    <tr>\n",
              "      <th>5</th>\n",
              "      <td>South Africa and Brazil among 47 destinations ...</td>\n",
              "      <td>2021-10-07 16:33:09</td>\n",
              "    </tr>\n",
              "    <tr>\n",
              "      <th>6</th>\n",
              "      <td>Saudi Arabian-backed takeover of Newcastle Uni...</td>\n",
              "      <td>2021-10-07 16:30:19</td>\n",
              "    </tr>\n",
              "    <tr>\n",
              "      <th>7</th>\n",
              "      <td>Children across much of Africa are to be vacci...</td>\n",
              "      <td>2021-10-06 15:58:15</td>\n",
              "    </tr>\n",
              "    <tr>\n",
              "      <th>8</th>\n",
              "      <td>Dubai ruler Sheikh Mohammed Al-Maktoum ordered...</td>\n",
              "      <td>2021-10-06 15:06:04</td>\n",
              "    </tr>\n",
              "    <tr>\n",
              "      <th>9</th>\n",
              "      <td>Inquiry launched into \"systematic failures\" th...</td>\n",
              "      <td>2021-10-05 11:41:52</td>\n",
              "    </tr>\n",
              "    <tr>\n",
              "      <th>10</th>\n",
              "      <td>216,000 people have been victims of sexual abu...</td>\n",
              "      <td>2021-10-05 07:58:13</td>\n",
              "    </tr>\n",
              "    <tr>\n",
              "      <th>11</th>\n",
              "      <td>Retail tycoons, foreign royals and super-rich ...</td>\n",
              "      <td>2021-10-05 05:48:28</td>\n",
              "    </tr>\n",
              "    <tr>\n",
              "      <th>12</th>\n",
              "      <td>Social media platforms Facebook, WhatsApp and ...</td>\n",
              "      <td>2021-10-04 22:45:09</td>\n",
              "    </tr>\n",
              "    <tr>\n",
              "      <th>13</th>\n",
              "      <td>Social media services Facebook, Whatsapp and I...</td>\n",
              "      <td>2021-10-04 16:44:34</td>\n",
              "    </tr>\n",
              "    <tr>\n",
              "      <th>14</th>\n",
              "      <td>Conservative Party donor Mohamed Amersi, who c...</td>\n",
              "      <td>2021-10-04 05:16:43</td>\n",
              "    </tr>\n",
              "    <tr>\n",
              "      <th>15</th>\n",
              "      <td>Fumio Kishida has formally been announced as J...</td>\n",
              "      <td>2021-10-04 04:49:51</td>\n",
              "    </tr>\n",
              "    <tr>\n",
              "      <th>16</th>\n",
              "      <td>Former UK Prime Minister Tony Blair and his wi...</td>\n",
              "      <td>2021-10-03 16:52:08</td>\n",
              "    </tr>\n",
              "    <tr>\n",
              "      <th>17</th>\n",
              "      <td>Massive data leak, the Pandora Papers, exposes...</td>\n",
              "      <td>2021-10-03 16:34:07</td>\n",
              "    </tr>\n",
              "    <tr>\n",
              "      <th>18</th>\n",
              "      <td>Petrol problems \"virtually over\" in Scotland, ...</td>\n",
              "      <td>2021-10-03 14:12:06</td>\n",
              "    </tr>\n",
              "    <tr>\n",
              "      <th>19</th>\n",
              "      <td>After years of controversy, Japan’s Princess M...</td>\n",
              "      <td>2021-10-01 05:17:24</td>\n",
              "    </tr>\n",
              "    <tr>\n",
              "      <th>20</th>\n",
              "      <td>Met Police officer who murdered Sarah Everard ...</td>\n",
              "      <td>2021-09-30 11:13:33</td>\n",
              "    </tr>\n",
              "    <tr>\n",
              "      <th>21</th>\n",
              "      <td>Ex-Met Police officer Wayne Couzens handcuffed...</td>\n",
              "      <td>2021-09-29 10:17:05</td>\n",
              "    </tr>\n",
              "    <tr>\n",
              "      <th>22</th>\n",
              "      <td>Former Liverpool and England World Cup-winning...</td>\n",
              "      <td>2021-09-28 11:37:39</td>\n",
              "    </tr>\n",
              "    <tr>\n",
              "      <th>23</th>\n",
              "      <td>Gloria Allred, an attorney who represented thr...</td>\n",
              "      <td>2021-09-27 20:12:42</td>\n",
              "    </tr>\n",
              "    <tr>\n",
              "      <th>24</th>\n",
              "      <td>Man charged with murder of primary school teac...</td>\n",
              "      <td>2021-09-27 19:39:59</td>\n",
              "    </tr>\n",
              "    <tr>\n",
              "      <th>25</th>\n",
              "      <td>After decades of abuse allegations, singer R. ...</td>\n",
              "      <td>2021-09-27 19:35:27</td>\n",
              "    </tr>\n",
              "    <tr>\n",
              "      <th>26</th>\n",
              "      <td>RT @BBCSport: USA regain the #RyderCup🏆\\n\\nCol...</td>\n",
              "      <td>2021-09-26 20:52:33</td>\n",
              "    </tr>\n",
              "    <tr>\n",
              "      <th>27</th>\n",
              "      <td>Police investigating the death of Sabina Nessa...</td>\n",
              "      <td>2021-09-26 07:37:05</td>\n",
              "    </tr>\n",
              "    <tr>\n",
              "      <th>28</th>\n",
              "      <td>RT @BBCSport: AND THE NEW....\\n\\nOleksandr Usy...</td>\n",
              "      <td>2021-09-25 22:07:08</td>\n",
              "    </tr>\n",
              "    <tr>\n",
              "      <th>29</th>\n",
              "      <td>5,000 overseas lorry drivers and 5,500 poultry...</td>\n",
              "      <td>2021-09-25 21:30:46</td>\n",
              "    </tr>\n",
              "    <tr>\n",
              "      <th>30</th>\n",
              "      <td>Two Canadians detained in China since 2018 are...</td>\n",
              "      <td>2021-09-25 01:29:17</td>\n",
              "    </tr>\n",
              "    <tr>\n",
              "      <th>31</th>\n",
              "      <td>Top Huawei executive flies home to China after...</td>\n",
              "      <td>2021-09-25 00:13:17</td>\n",
              "    </tr>\n",
              "    <tr>\n",
              "      <th>32</th>\n",
              "      <td>US drops extradition request and agrees deal t...</td>\n",
              "      <td>2021-09-24 19:19:37</td>\n",
              "    </tr>\n",
              "    <tr>\n",
              "      <th>33</th>\n",
              "      <td>38-year-old man arrested on suspicion of the m...</td>\n",
              "      <td>2021-09-23 19:21:12</td>\n",
              "    </tr>\n",
              "    <tr>\n",
              "      <th>34</th>\n",
              "      <td>Compensation payments for hundreds of civilian...</td>\n",
              "      <td>2021-09-23 17:25:54</td>\n",
              "    </tr>\n",
              "    <tr>\n",
              "      <th>35</th>\n",
              "      <td>Life expectancy for men in the UK falls for th...</td>\n",
              "      <td>2021-09-23 16:05:15</td>\n",
              "    </tr>\n",
              "    <tr>\n",
              "      <th>36</th>\n",
              "      <td>Man charged with the murders of three children...</td>\n",
              "      <td>2021-09-22 07:19:32</td>\n",
              "    </tr>\n",
              "    <tr>\n",
              "      <th>37</th>\n",
              "      <td>Body found in US national park is that of miss...</td>\n",
              "      <td>2021-09-21 21:28:22</td>\n",
              "    </tr>\n",
              "    <tr>\n",
              "      <th>38</th>\n",
              "      <td>\"A decisive decade for our world\" - Joe Biden ...</td>\n",
              "      <td>2021-09-21 14:12:19</td>\n",
              "    </tr>\n",
              "    <tr>\n",
              "      <th>39</th>\n",
              "      <td>Third Russian accused by UK police of involvem...</td>\n",
              "      <td>2021-09-21 10:07:48</td>\n",
              "    </tr>\n",
              "    <tr>\n",
              "      <th>40</th>\n",
              "      <td>Russia responsible for killing Alexander Litvi...</td>\n",
              "      <td>2021-09-21 08:57:22</td>\n",
              "    </tr>\n",
              "    <tr>\n",
              "      <th>41</th>\n",
              "      <td>Canada's Justin Trudeau says \"brighter days ah...</td>\n",
              "      <td>2021-09-21 05:44:20</td>\n",
              "    </tr>\n",
              "    <tr>\n",
              "      <th>42</th>\n",
              "      <td>UK's defence secretary orders investigation in...</td>\n",
              "      <td>2021-09-20 20:53:54</td>\n",
              "    </tr>\n",
              "    <tr>\n",
              "      <th>43</th>\n",
              "      <td>US relaxing Covid travel restrictions for full...</td>\n",
              "      <td>2021-09-20 14:59:54</td>\n",
              "    </tr>\n",
              "    <tr>\n",
              "      <th>44</th>\n",
              "      <td>US expected to relax travel ban for passengers...</td>\n",
              "      <td>2021-09-20 14:19:51</td>\n",
              "    </tr>\n",
              "    <tr>\n",
              "      <th>45</th>\n",
              "      <td>John Challis, best known for playing Boycie in...</td>\n",
              "      <td>2021-09-19 13:18:05</td>\n",
              "    </tr>\n",
              "    <tr>\n",
              "      <th>46</th>\n",
              "      <td>RT @BBCSport: Tottenham's record goalscorer an...</td>\n",
              "      <td>2021-09-19 09:20:29</td>\n",
              "    </tr>\n",
              "    <tr>\n",
              "      <th>47</th>\n",
              "      <td>France recalls ambassadors from US and Austral...</td>\n",
              "      <td>2021-09-17 19:53:56</td>\n",
              "    </tr>\n",
              "    <tr>\n",
              "      <th>48</th>\n",
              "      <td>US admits drone strike in Kabul just before mi...</td>\n",
              "      <td>2021-09-17 18:54:39</td>\n",
              "    </tr>\n",
              "    <tr>\n",
              "      <th>49</th>\n",
              "      <td>Amber list scrapped and PCR tests no longer ne...</td>\n",
              "      <td>2021-09-17 15:55:55</td>\n",
              "    </tr>\n",
              "  </tbody>\n",
              "</table>\n",
              "</div>"
            ],
            "text/plain": [
              "                                                tweet                time\n",
              "0   UK's early Covid response was \"one of the most... 2021-10-12 08:09:48\n",
              "1   Austria's Chancellor Sebastian Kurz resigns am... 2021-10-09 18:18:41\n",
              "2   A US appeals court reinstates Texas's near tot... 2021-10-09 03:20:39\n",
              "3   Conservative MP and former UK government minis... 2021-10-08 10:38:59\n",
              "4   Journalists Maria Ressa and Dmitry Muratov joi... 2021-10-08 09:10:05\n",
              "5   South Africa and Brazil among 47 destinations ... 2021-10-07 16:33:09\n",
              "6   Saudi Arabian-backed takeover of Newcastle Uni... 2021-10-07 16:30:19\n",
              "7   Children across much of Africa are to be vacci... 2021-10-06 15:58:15\n",
              "8   Dubai ruler Sheikh Mohammed Al-Maktoum ordered... 2021-10-06 15:06:04\n",
              "9   Inquiry launched into \"systematic failures\" th... 2021-10-05 11:41:52\n",
              "10  216,000 people have been victims of sexual abu... 2021-10-05 07:58:13\n",
              "11  Retail tycoons, foreign royals and super-rich ... 2021-10-05 05:48:28\n",
              "12  Social media platforms Facebook, WhatsApp and ... 2021-10-04 22:45:09\n",
              "13  Social media services Facebook, Whatsapp and I... 2021-10-04 16:44:34\n",
              "14  Conservative Party donor Mohamed Amersi, who c... 2021-10-04 05:16:43\n",
              "15  Fumio Kishida has formally been announced as J... 2021-10-04 04:49:51\n",
              "16  Former UK Prime Minister Tony Blair and his wi... 2021-10-03 16:52:08\n",
              "17  Massive data leak, the Pandora Papers, exposes... 2021-10-03 16:34:07\n",
              "18  Petrol problems \"virtually over\" in Scotland, ... 2021-10-03 14:12:06\n",
              "19  After years of controversy, Japan’s Princess M... 2021-10-01 05:17:24\n",
              "20  Met Police officer who murdered Sarah Everard ... 2021-09-30 11:13:33\n",
              "21  Ex-Met Police officer Wayne Couzens handcuffed... 2021-09-29 10:17:05\n",
              "22  Former Liverpool and England World Cup-winning... 2021-09-28 11:37:39\n",
              "23  Gloria Allred, an attorney who represented thr... 2021-09-27 20:12:42\n",
              "24  Man charged with murder of primary school teac... 2021-09-27 19:39:59\n",
              "25  After decades of abuse allegations, singer R. ... 2021-09-27 19:35:27\n",
              "26  RT @BBCSport: USA regain the #RyderCup🏆\\n\\nCol... 2021-09-26 20:52:33\n",
              "27  Police investigating the death of Sabina Nessa... 2021-09-26 07:37:05\n",
              "28  RT @BBCSport: AND THE NEW....\\n\\nOleksandr Usy... 2021-09-25 22:07:08\n",
              "29  5,000 overseas lorry drivers and 5,500 poultry... 2021-09-25 21:30:46\n",
              "30  Two Canadians detained in China since 2018 are... 2021-09-25 01:29:17\n",
              "31  Top Huawei executive flies home to China after... 2021-09-25 00:13:17\n",
              "32  US drops extradition request and agrees deal t... 2021-09-24 19:19:37\n",
              "33  38-year-old man arrested on suspicion of the m... 2021-09-23 19:21:12\n",
              "34  Compensation payments for hundreds of civilian... 2021-09-23 17:25:54\n",
              "35  Life expectancy for men in the UK falls for th... 2021-09-23 16:05:15\n",
              "36  Man charged with the murders of three children... 2021-09-22 07:19:32\n",
              "37  Body found in US national park is that of miss... 2021-09-21 21:28:22\n",
              "38  \"A decisive decade for our world\" - Joe Biden ... 2021-09-21 14:12:19\n",
              "39  Third Russian accused by UK police of involvem... 2021-09-21 10:07:48\n",
              "40  Russia responsible for killing Alexander Litvi... 2021-09-21 08:57:22\n",
              "41  Canada's Justin Trudeau says \"brighter days ah... 2021-09-21 05:44:20\n",
              "42  UK's defence secretary orders investigation in... 2021-09-20 20:53:54\n",
              "43  US relaxing Covid travel restrictions for full... 2021-09-20 14:59:54\n",
              "44  US expected to relax travel ban for passengers... 2021-09-20 14:19:51\n",
              "45  John Challis, best known for playing Boycie in... 2021-09-19 13:18:05\n",
              "46  RT @BBCSport: Tottenham's record goalscorer an... 2021-09-19 09:20:29\n",
              "47  France recalls ambassadors from US and Austral... 2021-09-17 19:53:56\n",
              "48  US admits drone strike in Kabul just before mi... 2021-09-17 18:54:39\n",
              "49  Amber list scrapped and PCR tests no longer ne... 2021-09-17 15:55:55"
            ]
          },
          "metadata": {},
          "execution_count": 63
        }
      ]
    },
    {
      "cell_type": "markdown",
      "metadata": {
        "id": "RY8HyXhohNgR"
      },
      "source": [
        "Remove retweets"
      ]
    },
    {
      "cell_type": "code",
      "metadata": {
        "id": "1UXUozFyZZIA"
      },
      "source": [
        "df = df[df['tweet'].str.contains(\"RT\") == False]"
      ],
      "execution_count": 64,
      "outputs": []
    },
    {
      "cell_type": "markdown",
      "metadata": {
        "id": "dI_EjQwhhdxt"
      },
      "source": [
        "Reset Index"
      ]
    },
    {
      "cell_type": "code",
      "metadata": {
        "id": "1bD_JxoxhhjQ"
      },
      "source": [
        "df = df.reset_index().drop('index',axis = 1)"
      ],
      "execution_count": 65,
      "outputs": []
    },
    {
      "cell_type": "markdown",
      "metadata": {
        "id": "ZhhWDCyWhdvS"
      },
      "source": [
        "Remove links as they dont represent sentiment"
      ]
    },
    {
      "cell_type": "code",
      "metadata": {
        "id": "TO5D3CYyh29A"
      },
      "source": [
        "# use Regex Library to find the pattern \"http\" followed any length of string or number with white space\n",
        "import re\n",
        "\n",
        "df1 = df.copy()\n",
        "df1.tweet = df.tweet.apply (lambda x : re.sub(r\"http\\S+\", \"\",x))"
      ],
      "execution_count": 66,
      "outputs": []
    },
    {
      "cell_type": "markdown",
      "metadata": {
        "id": "btcl7h25jO4A"
      },
      "source": [
        "Remove '/n' wish represents line breaks"
      ]
    },
    {
      "cell_type": "code",
      "metadata": {
        "id": "da-76K0ijWFT"
      },
      "source": [
        "df1.tweet = df1.tweet.apply(lambda x : x.replace('\\n\\n',' '))\n",
        "df1.tweet = df1.tweet.apply(lambda x : x.replace('\\n \\n',' '))"
      ],
      "execution_count": 67,
      "outputs": []
    },
    {
      "cell_type": "markdown",
      "metadata": {
        "id": "voHJF73EjOx8"
      },
      "source": [
        "**Text Blob**\n",
        "\n",
        "A python library for processing textual data. it provides a simple API for diving into common natural language processing (NLP) tasks such as part-of-speech tagging, noun phrase extraction, sentiment analysis, classification, translation and more"
      ]
    },
    {
      "cell_type": "code",
      "metadata": {
        "colab": {
          "base_uri": "https://localhost:8080/"
        },
        "id": "GRs4ur71kWXR",
        "outputId": "0ffcf661-00b6-4095-981b-363a8c4f5c26"
      },
      "source": [
        "pip install textblob"
      ],
      "execution_count": 68,
      "outputs": [
        {
          "output_type": "stream",
          "name": "stdout",
          "text": [
            "Requirement already satisfied: textblob in /usr/local/lib/python3.7/dist-packages (0.15.3)\n",
            "Requirement already satisfied: nltk>=3.1 in /usr/local/lib/python3.7/dist-packages (from textblob) (3.2.5)\n",
            "Requirement already satisfied: six in /usr/local/lib/python3.7/dist-packages (from nltk>=3.1->textblob) (1.15.0)\n"
          ]
        }
      ]
    },
    {
      "cell_type": "code",
      "metadata": {
        "id": "xYVZW6pzkmI0"
      },
      "source": [
        "from textblob import TextBlob\n",
        "df1['sentiment'] = df1['tweet'].apply(lambda x: TextBlob(x).sentiment)\n"
      ],
      "execution_count": 69,
      "outputs": []
    },
    {
      "cell_type": "markdown",
      "metadata": {
        "id": "Xwf_mlfslLAf"
      },
      "source": [
        "The .sentiment attribute returns 2 things:\n",
        "\n",
        "\n",
        "\n",
        "*   sentiment [-1,1] : 0 means neutral, <0 means negative and >0 means positive sentiment\n",
        "*   Subjectiveness : tell if the topic being mentioned in the tweet is an opinion or fact\n",
        "\n"
      ]
    },
    {
      "cell_type": "markdown",
      "metadata": {
        "id": "dsDZQmzcmJQX"
      },
      "source": [
        "Since we have to check tweets sentiment, we will use the sentiment score and classify it as positive, negative or neutral using a nested if-else statement"
      ]
    },
    {
      "cell_type": "code",
      "metadata": {
        "colab": {
          "base_uri": "https://localhost:8080/",
          "height": 417
        },
        "id": "5seaoMlZlRqj",
        "outputId": "e8aee7d1-c25c-4755-9038-ef6764d959a0"
      },
      "source": [
        "df1. sentiment = df1.sentiment.apply(lambda x : \"Positive\" if x[0] > 0 else (\"Negative\" if x[0] < 0 else \"Neutral\"))\n",
        "df1"
      ],
      "execution_count": 70,
      "outputs": [
        {
          "output_type": "execute_result",
          "data": {
            "text/html": [
              "<div>\n",
              "<style scoped>\n",
              "    .dataframe tbody tr th:only-of-type {\n",
              "        vertical-align: middle;\n",
              "    }\n",
              "\n",
              "    .dataframe tbody tr th {\n",
              "        vertical-align: top;\n",
              "    }\n",
              "\n",
              "    .dataframe thead th {\n",
              "        text-align: right;\n",
              "    }\n",
              "</style>\n",
              "<table border=\"1\" class=\"dataframe\">\n",
              "  <thead>\n",
              "    <tr style=\"text-align: right;\">\n",
              "      <th></th>\n",
              "      <th>tweet</th>\n",
              "      <th>time</th>\n",
              "      <th>sentiment</th>\n",
              "    </tr>\n",
              "  </thead>\n",
              "  <tbody>\n",
              "    <tr>\n",
              "      <th>0</th>\n",
              "      <td>UK's early Covid response was \"one of the most...</td>\n",
              "      <td>2021-10-12 08:09:48</td>\n",
              "      <td>Positive</td>\n",
              "    </tr>\n",
              "    <tr>\n",
              "      <th>1</th>\n",
              "      <td>Austria's Chancellor Sebastian Kurz resigns am...</td>\n",
              "      <td>2021-10-09 18:18:41</td>\n",
              "      <td>Negative</td>\n",
              "    </tr>\n",
              "    <tr>\n",
              "      <th>2</th>\n",
              "      <td>A US appeals court reinstates Texas's near tot...</td>\n",
              "      <td>2021-10-09 03:20:39</td>\n",
              "      <td>Positive</td>\n",
              "    </tr>\n",
              "    <tr>\n",
              "      <th>3</th>\n",
              "      <td>Journalists Maria Ressa and Dmitry Muratov joi...</td>\n",
              "      <td>2021-10-08 09:10:05</td>\n",
              "      <td>Positive</td>\n",
              "    </tr>\n",
              "    <tr>\n",
              "      <th>4</th>\n",
              "      <td>South Africa and Brazil among 47 destinations ...</td>\n",
              "      <td>2021-10-07 16:33:09</td>\n",
              "      <td>Neutral</td>\n",
              "    </tr>\n",
              "    <tr>\n",
              "      <th>...</th>\n",
              "      <td>...</td>\n",
              "      <td>...</td>\n",
              "      <td>...</td>\n",
              "    </tr>\n",
              "    <tr>\n",
              "      <th>125</th>\n",
              "      <td>Almost all of Scotland's remaining Covid restr...</td>\n",
              "      <td>2021-08-03 13:16:55</td>\n",
              "      <td>Positive</td>\n",
              "    </tr>\n",
              "    <tr>\n",
              "      <th>126</th>\n",
              "      <td>NHS Covid App for England and Wales tweaked so...</td>\n",
              "      <td>2021-08-02 15:25:14</td>\n",
              "      <td>Positive</td>\n",
              "    </tr>\n",
              "    <tr>\n",
              "      <th>127</th>\n",
              "      <td>Italy's Lamont Marcell Jacobs wins men's 100m ...</td>\n",
              "      <td>2021-08-01 13:01:49</td>\n",
              "      <td>Positive</td>\n",
              "    </tr>\n",
              "    <tr>\n",
              "      <th>128</th>\n",
              "      <td>UK Prime Minister Boris Johnson and wife Carri...</td>\n",
              "      <td>2021-07-31 14:55:54</td>\n",
              "      <td>Neutral</td>\n",
              "    </tr>\n",
              "    <tr>\n",
              "      <th>129</th>\n",
              "      <td>Elaine Thompson-Herah sets new Olympic record,...</td>\n",
              "      <td>2021-07-31 13:13:16</td>\n",
              "      <td>Positive</td>\n",
              "    </tr>\n",
              "  </tbody>\n",
              "</table>\n",
              "<p>130 rows × 3 columns</p>\n",
              "</div>"
            ],
            "text/plain": [
              "                                                 tweet  ... sentiment\n",
              "0    UK's early Covid response was \"one of the most...  ...  Positive\n",
              "1    Austria's Chancellor Sebastian Kurz resigns am...  ...  Negative\n",
              "2    A US appeals court reinstates Texas's near tot...  ...  Positive\n",
              "3    Journalists Maria Ressa and Dmitry Muratov joi...  ...  Positive\n",
              "4    South Africa and Brazil among 47 destinations ...  ...   Neutral\n",
              "..                                                 ...  ...       ...\n",
              "125  Almost all of Scotland's remaining Covid restr...  ...  Positive\n",
              "126  NHS Covid App for England and Wales tweaked so...  ...  Positive\n",
              "127  Italy's Lamont Marcell Jacobs wins men's 100m ...  ...  Positive\n",
              "128  UK Prime Minister Boris Johnson and wife Carri...  ...   Neutral\n",
              "129  Elaine Thompson-Herah sets new Olympic record,...  ...  Positive\n",
              "\n",
              "[130 rows x 3 columns]"
            ]
          },
          "metadata": {},
          "execution_count": 70
        }
      ]
    }
  ]
}